{
 "cells": [
  {
   "cell_type": "markdown",
   "metadata": {},
   "source": [
    "## Atividade Avaliativa 1.2 - _Churn Prediction_\n",
    "\n",
    "- Redes Neurais Artificiais 2025.2\n",
    "- Profa. Elloá B. Guedes (ebgcosta@uea.edu.br)\n",
    "- http://github.com/elloa\n",
    "\n",
    "### Equipe\n",
    "\n",
    "- Juliana Ballin Lima (http://github.com/JulianaBallin)\n",
    "- Marcelo Heitor De Almeida Lira (github.com/integrante2)\n",
    "- Ryan Da Silva Marinho (github.com/integrante3)\n",
    "\n",
    "### Apresentação\n",
    "\n",
    "A previsão de evasão de clientes (_Churn Prediction_) é um problema tipicamente abordado pela Ciência de Dados com o uso de modelos de _Machine Learning_ para identificar clientes com alta probabilidade de descontinuar o uso de um serviço ou produto. Possui extrema importância para o domínio de negócios, especialmente para empresas com modelos de receita baseados em assinatura (SaaS, telecomunicações, serviços de streaming) ou que dependem da fidelidade do cliente, especialmente por:\n",
    "\n",
    "1. **Impacto na Receita e Lucratividade.** O custo de adquirir um novo cliente é, em geral, significativamente maior do que o custo de reter um cliente existente. A evasão de clientes (churn) representa uma perda direta de receita recorrente. Ao prever quais clientes estão em risco, as empresas podem intervir com estratégias de retenção direcionadas, como ofertas especiais ou suporte aprimorado, minimizando essa perda financeira. A retenção de clientes não só protege a receita atual, mas também contribui para o aumento do _Lifetime Value_ do cliente, que é a receita total que um cliente gera ao longo de sua relação com a empresa;\n",
    "2. **Otimização de Recursos e Estratégias.** Sem um modelo de previsão, as empresas tendem a adotar estratégias de retenção de forma genérica, aplicando os mesmos esforços a todos os clientes, independentemente do risco de evasão. Isso leva a um desperdício de recursos;\n",
    "3. **Entendimento do Comportamento do Cliente.** A construção de um modelo de previsão de churn exige a análise aprofundada dos dados de comportamento do cliente. Esse processo revela insights valiosos sobre o que leva os clientes a ficarem ou a saírem, o que não apenas ajuda a reter clientes, mas também auxilia o desenvolvimento de produtos, a melhoria do serviço e a criação de estratégias de marketing mais eficazes para atrair clientes com um perfil de maior lealdade.\n",
    "\n",
    "### Contexto do Problema\n",
    "\n",
    "O termo _Telco_ se refere a _telecommunications industry_. Este domínio é particularmente relevante para a análise de churn devido ao seu alto nível de competição e saturação. Os clientes neste setor — seja para serviços de telefonia móvel, internet ou TV a cabo — têm uma vasta gama de provedores à sua escolha, o que torna relativamente fácil para eles migrarem caso estejam insatisfeitos ou encontrem uma oferta melhor.\n",
    "\n",
    "### Base de Dados\n",
    "\n",
    "Base de dados original: https://www.kaggle.com/datasets/blastchar/telco-customer-churn"
   ]
  },
  {
   "cell_type": "markdown",
   "metadata": {},
   "source": [
    "### Bibliotecas\n",
    "\n",
    "Por hábito, a primeira célula do notebook costuma ser reservada para importação de bibliotecas.\n",
    "A cada biblioteca nova acrescida, é necessário executar a célula para atualização e correta execução."
   ]
  },
  {
   "cell_type": "code",
   "execution_count": 1,
   "metadata": {},
   "outputs": [
    {
     "name": "stderr",
     "output_type": "stream",
     "text": [
      "c:\\Users\\marce\\OneDrive\\Área de Trabalho\\Pessoal\\Faculdade\\6_periodo\\Redes_neurais_artificiais\\pp2\\venv\\Lib\\site-packages\\tqdm\\auto.py:21: TqdmWarning: IProgress not found. Please update jupyter and ipywidgets. See https://ipywidgets.readthedocs.io/en/stable/user_install.html\n",
      "  from .autonotebook import tqdm as notebook_tqdm\n"
     ]
    }
   ],
   "source": [
    "#pip install --upgrade pip\n",
    "#pip install kagglehub[pandas-datasets]\n",
    "\n",
    "import kagglehub\n",
    "from kagglehub import KaggleDatasetAdapter\n",
    "import pandas as pd\n",
    "import matplotlib.pyplot as plt\n",
    "import numpy as np"
   ]
  },
  {
   "cell_type": "markdown",
   "metadata": {},
   "source": [
    "## Parte 1 - Análise e Exploração de Dados"
   ]
  },
  {
   "cell_type": "markdown",
   "metadata": {},
   "source": [
    "### Abertura do Dataset\n",
    "Abra o dataset e visualize o seu cabeçalho, isto é, os primeiros exemplos nele contidos. Isto é útil para checar se a importação foi realizada de maneira adequada e se a disposição dos dados está de acordo para os próximos passos do trabalho."
   ]
  },
  {
   "cell_type": "code",
   "execution_count": 2,
   "metadata": {},
   "outputs": [
    {
     "name": "stdout",
     "output_type": "stream",
     "text": [
      "Downloading from https://www.kaggle.com/api/v1/datasets/download/blastchar/telco-customer-churn?dataset_version_number=1&file_name=WA_Fn-UseC_-Telco-Customer-Churn.csv...\n"
     ]
    },
    {
     "name": "stderr",
     "output_type": "stream",
     "text": [
      "100%|██████████| 955k/955k [00:01<00:00, 688kB/s]"
     ]
    },
    {
     "name": "stdout",
     "output_type": "stream",
     "text": [
      "   customerID  gender  SeniorCitizen Partner Dependents  tenure PhoneService  \\\n",
      "0  7590-VHVEG  Female              0     Yes         No       1           No   \n",
      "1  5575-GNVDE    Male              0      No         No      34          Yes   \n",
      "2  3668-QPYBK    Male              0      No         No       2          Yes   \n",
      "3  7795-CFOCW    Male              0      No         No      45           No   \n",
      "4  9237-HQITU  Female              0      No         No       2          Yes   \n",
      "\n",
      "      MultipleLines InternetService OnlineSecurity  ... DeviceProtection  \\\n",
      "0  No phone service             DSL             No  ...               No   \n",
      "1                No             DSL            Yes  ...              Yes   \n",
      "2                No             DSL            Yes  ...               No   \n",
      "3  No phone service             DSL            Yes  ...              Yes   \n",
      "4                No     Fiber optic             No  ...               No   \n",
      "\n",
      "  TechSupport StreamingTV StreamingMovies        Contract PaperlessBilling  \\\n",
      "0          No          No              No  Month-to-month              Yes   \n",
      "1          No          No              No        One year               No   \n",
      "2          No          No              No  Month-to-month              Yes   \n",
      "3         Yes          No              No        One year               No   \n",
      "4          No          No              No  Month-to-month              Yes   \n",
      "\n",
      "               PaymentMethod MonthlyCharges  TotalCharges Churn  \n",
      "0           Electronic check          29.85         29.85    No  \n",
      "1               Mailed check          56.95        1889.5    No  \n",
      "2               Mailed check          53.85        108.15   Yes  \n",
      "3  Bank transfer (automatic)          42.30       1840.75    No  \n",
      "4           Electronic check          70.70        151.65   Yes  \n",
      "\n",
      "[5 rows x 21 columns]\n"
     ]
    },
    {
     "name": "stderr",
     "output_type": "stream",
     "text": [
      "\n"
     ]
    }
   ],
   "source": [
    "df = kagglehub.dataset_load(\n",
    "    KaggleDatasetAdapter.PANDAS,\n",
    "    \"blastchar/telco-customer-churn\",\n",
    "    \"WA_Fn-UseC_-Telco-Customer-Churn.csv\"\n",
    ")\n",
    "print(df.head())"
   ]
  },
  {
   "cell_type": "markdown",
   "metadata": {},
   "source": [
    "### Conhecendo o dataset\n",
    "\n",
    "Para praticar conceitos relativos à exploração do conjunto de dados, utilize as células a seguir para prover respostas para cada uma das respostas elencadas"
   ]
  },
  {
   "cell_type": "code",
   "execution_count": 3,
   "metadata": {},
   "outputs": [
    {
     "name": "stdout",
     "output_type": "stream",
     "text": [
      "customerID           object\n",
      "gender               object\n",
      "SeniorCitizen         int64\n",
      "Partner              object\n",
      "Dependents           object\n",
      "tenure                int64\n",
      "PhoneService         object\n",
      "MultipleLines        object\n",
      "InternetService      object\n",
      "OnlineSecurity       object\n",
      "OnlineBackup         object\n",
      "DeviceProtection     object\n",
      "TechSupport          object\n",
      "StreamingTV          object\n",
      "StreamingMovies      object\n",
      "Contract             object\n",
      "PaperlessBilling     object\n",
      "PaymentMethod        object\n",
      "MonthlyCharges      float64\n",
      "TotalCharges         object\n",
      "Churn                object\n",
      "dtype: object\n"
     ]
    }
   ],
   "source": [
    "print(df.dtypes)"
   ]
  },
  {
   "cell_type": "markdown",
   "metadata": {},
   "source": [
    "#### Quantos exemplos há no dataset?"
   ]
  },
  {
   "cell_type": "code",
   "execution_count": 4,
   "metadata": {},
   "outputs": [
    {
     "name": "stdout",
     "output_type": "stream",
     "text": [
      "Number of examples: 7043\n",
      "Shape do dataset: (7043, 21)\n"
     ]
    }
   ],
   "source": [
    "print(\"Number of examples:\", len(df))\n",
    "print(\"Shape do dataset:\", df.shape)"
   ]
  },
  {
   "cell_type": "markdown",
   "metadata": {},
   "source": [
    "#### Dados Faltantes\n",
    "\n",
    "- Elimine todas as entradas em que há dados faltantes\n",
    "- Qual o decréscimo percentual no tamanho do dataset?"
   ]
  },
  {
   "cell_type": "code",
   "execution_count": 5,
   "metadata": {},
   "outputs": [],
   "source": [
    "# Change values in the TotalCharges column to 0 instead of null\n",
    "# Previously as an object because when creating a new customer, it initializes empty by default\n",
    "df['TotalCharges'] = pd.to_numeric(df['TotalCharges'], errors='coerce')\n",
    "\n",
    "# Delete all rows with missing values\n",
    "df_clean = df.dropna()"
   ]
  },
  {
   "cell_type": "code",
   "execution_count": 6,
   "metadata": {},
   "outputs": [
    {
     "name": "stdout",
     "output_type": "stream",
     "text": [
      "Lines before: 7043\n",
      "Lines after: 7032\n",
      "Percentage decrease: 0.16%\n"
     ]
    }
   ],
   "source": [
    "# Dataset len before clean\n",
    "lines_before = len(df)\n",
    "\n",
    "# Dataset len after clean\n",
    "lines_after = len(df_clean)\n",
    "\n",
    "# Calculate percentage decrease\n",
    "decr_percent = ((lines_before - lines_after) / lines_before) * 100\n",
    "\n",
    "print(f\"Lines before: {lines_before}\")\n",
    "print(f\"Lines after: {lines_after}\")\n",
    "print(f\"Percentage decrease: {decr_percent:.2f}%\")"
   ]
  },
  {
   "cell_type": "markdown",
   "metadata": {},
   "source": [
    "#### Dados Duplicados\n",
    "\n",
    "- Verifique se há clientes duplicados (mesmo id é repetido)\n",
    "- Em caso afirmativo, elimine as duplicatas, favorecendo as entradas mais recentes"
   ]
  },
  {
   "cell_type": "code",
   "execution_count": 7,
   "metadata": {},
   "outputs": [
    {
     "name": "stdout",
     "output_type": "stream",
     "text": [
      "Number of duplicated customerIDs: 0\n",
      "Total duplicated rows: 0\n"
     ]
    }
   ],
   "source": [
    "# Step 1: Check for duplicate customers (same customerID repeated)\n",
    "duplicates = df_clean[df_clean.duplicated(subset=\"customerID\", keep=False)]\n",
    "\n",
    "print(\"Number of duplicated customerIDs:\", duplicates[\"customerID\"].nunique())\n",
    "print(\"Total duplicated rows:\", len(duplicates))"
   ]
  },
  {
   "cell_type": "code",
   "execution_count": 8,
   "metadata": {},
   "outputs": [
    {
     "name": "stdout",
     "output_type": "stream",
     "text": [
      "Shape after removing duplicates: (7032, 21)\n"
     ]
    }
   ],
   "source": [
    "#Step 2: If duplicates exist, keep the most recent entry\n",
    "# We assume 'tenure' (number of months as a customer) represents recency,\n",
    "# so the higher the tenure, the more recent/complete the record.\n",
    "\n",
    "# Sort by customerID and tenure in descending order\n",
    "df_clean = df_clean.sort_values(by=[\"customerID\", \"tenure\"], ascending=[True, False])\n",
    "\n",
    "# Drop duplicates, keeping only the most recent record for each customerID\n",
    "df_clean = df_clean.drop_duplicates(subset=\"customerID\", keep=\"first\")\n",
    "\n",
    "print(\"Shape after removing duplicates:\", df_clean.shape)"
   ]
  },
  {
   "cell_type": "code",
   "execution_count": 9,
   "metadata": {},
   "outputs": [
    {
     "name": "stdout",
     "output_type": "stream",
     "text": [
      "Remaining duplicates: 0\n"
     ]
    }
   ],
   "source": [
    "#Step 3: Verify that all duplicates were removed\n",
    "remaining_duplicates = df_clean.duplicated(subset=\"customerID\").sum()\n",
    "print(\"Remaining duplicates:\", remaining_duplicates)"
   ]
  },
  {
   "cell_type": "markdown",
   "metadata": {},
   "source": [
    "#### Quais os atributos existentes no dataset e seu tipo?\n",
    "\n",
    "- Exemplos de tipos de dados são categóricos (nominal ou ordinal), numéricos (discreto ou contínuo), textual ou estampa de tempo. Faça uma análise e agrupe por categoria na sua resposta. Observe que analisar os tipos das variáveis não é suficiente."
   ]
  },
  {
   "cell_type": "code",
   "execution_count": 10,
   "metadata": {},
   "outputs": [
    {
     "name": "stdout",
     "output_type": "stream",
     "text": [
      "customerID           object\n",
      "gender               object\n",
      "SeniorCitizen         int64\n",
      "Partner              object\n",
      "Dependents           object\n",
      "tenure                int64\n",
      "PhoneService         object\n",
      "MultipleLines        object\n",
      "InternetService      object\n",
      "OnlineSecurity       object\n",
      "OnlineBackup         object\n",
      "DeviceProtection     object\n",
      "TechSupport          object\n",
      "StreamingTV          object\n",
      "StreamingMovies      object\n",
      "Contract             object\n",
      "PaperlessBilling     object\n",
      "PaymentMethod        object\n",
      "MonthlyCharges      float64\n",
      "TotalCharges        float64\n",
      "Churn                object\n",
      "dtype: object\n"
     ]
    }
   ],
   "source": [
    "print(df_clean.dtypes)"
   ]
  },
  {
   "cell_type": "code",
   "execution_count": 12,
   "metadata": {},
   "outputs": [],
   "source": [
    "#Step 1: Define semantic types for each attribute\n",
    "semantic_types = {\n",
    "    # Customer info\n",
    "    \"customerID\": \"Textual (identifier)\",\n",
    "    \n",
    "    # Demographics\n",
    "    \"gender\": \"Categorical (nominal)\",\n",
    "    \"SeniorCitizen\": \"Categorical (binary)\",\n",
    "    \"Partner\": \"Categorical (binary)\",\n",
    "    \"Dependents\": \"Categorical (binary)\",\n",
    "    \n",
    "    # Service subscription attributes\n",
    "    \"tenure\": \"Numerical (discrete, ordinal)\",\n",
    "    \"PhoneService\": \"Categorical (binary)\",\n",
    "    \"MultipleLines\": \"Categorical (nominal)\",\n",
    "    \"InternetService\": \"Categorical (nominal)\",\n",
    "    \"OnlineSecurity\": \"Categorical (nominal)\",\n",
    "    \"OnlineBackup\": \"Categorical (nominal)\",\n",
    "    \"DeviceProtection\": \"Categorical (nominal)\",\n",
    "    \"TechSupport\": \"Categorical (nominal)\",\n",
    "    \"StreamingTV\": \"Categorical (nominal)\",\n",
    "    \"StreamingMovies\": \"Categorical (nominal)\",\n",
    "    \"Contract\": \"Categorical (ordinal)\",\n",
    "    \"PaperlessBilling\": \"Categorical (binary)\",\n",
    "    \"PaymentMethod\": \"Categorical (nominal)\",\n",
    "    \n",
    "    # Charges\n",
    "    \"MonthlyCharges\": \"Numerical (continuous)\",\n",
    "    \"TotalCharges\": \"Numerical (continuous)\",\n",
    "    \n",
    "    # Target variable\n",
    "    \"Churn\": \"Categorical (binary)\"\n",
    "}"
   ]
  },
  {
   "cell_type": "code",
   "execution_count": 13,
   "metadata": {},
   "outputs": [
    {
     "name": "stdout",
     "output_type": "stream",
     "text": [
      "Attributes and their semantic types:\n",
      "\n"
     ]
    },
    {
     "data": {
      "text/html": [
       "<div>\n",
       "<style scoped>\n",
       "    .dataframe tbody tr th:only-of-type {\n",
       "        vertical-align: middle;\n",
       "    }\n",
       "\n",
       "    .dataframe tbody tr th {\n",
       "        vertical-align: top;\n",
       "    }\n",
       "\n",
       "    .dataframe thead th {\n",
       "        text-align: right;\n",
       "    }\n",
       "</style>\n",
       "<table border=\"1\" class=\"dataframe\">\n",
       "  <thead>\n",
       "    <tr style=\"text-align: right;\">\n",
       "      <th></th>\n",
       "      <th>Attribute</th>\n",
       "      <th>Semantic Type</th>\n",
       "    </tr>\n",
       "  </thead>\n",
       "  <tbody>\n",
       "    <tr>\n",
       "      <th>0</th>\n",
       "      <td>customerID</td>\n",
       "      <td>Textual (identifier)</td>\n",
       "    </tr>\n",
       "    <tr>\n",
       "      <th>1</th>\n",
       "      <td>gender</td>\n",
       "      <td>Categorical (nominal)</td>\n",
       "    </tr>\n",
       "    <tr>\n",
       "      <th>2</th>\n",
       "      <td>SeniorCitizen</td>\n",
       "      <td>Categorical (binary)</td>\n",
       "    </tr>\n",
       "    <tr>\n",
       "      <th>3</th>\n",
       "      <td>Partner</td>\n",
       "      <td>Categorical (binary)</td>\n",
       "    </tr>\n",
       "    <tr>\n",
       "      <th>4</th>\n",
       "      <td>Dependents</td>\n",
       "      <td>Categorical (binary)</td>\n",
       "    </tr>\n",
       "    <tr>\n",
       "      <th>5</th>\n",
       "      <td>tenure</td>\n",
       "      <td>Numerical (discrete, ordinal)</td>\n",
       "    </tr>\n",
       "    <tr>\n",
       "      <th>6</th>\n",
       "      <td>PhoneService</td>\n",
       "      <td>Categorical (binary)</td>\n",
       "    </tr>\n",
       "    <tr>\n",
       "      <th>7</th>\n",
       "      <td>MultipleLines</td>\n",
       "      <td>Categorical (nominal)</td>\n",
       "    </tr>\n",
       "    <tr>\n",
       "      <th>8</th>\n",
       "      <td>InternetService</td>\n",
       "      <td>Categorical (nominal)</td>\n",
       "    </tr>\n",
       "    <tr>\n",
       "      <th>9</th>\n",
       "      <td>OnlineSecurity</td>\n",
       "      <td>Categorical (nominal)</td>\n",
       "    </tr>\n",
       "    <tr>\n",
       "      <th>10</th>\n",
       "      <td>OnlineBackup</td>\n",
       "      <td>Categorical (nominal)</td>\n",
       "    </tr>\n",
       "    <tr>\n",
       "      <th>11</th>\n",
       "      <td>DeviceProtection</td>\n",
       "      <td>Categorical (nominal)</td>\n",
       "    </tr>\n",
       "    <tr>\n",
       "      <th>12</th>\n",
       "      <td>TechSupport</td>\n",
       "      <td>Categorical (nominal)</td>\n",
       "    </tr>\n",
       "    <tr>\n",
       "      <th>13</th>\n",
       "      <td>StreamingTV</td>\n",
       "      <td>Categorical (nominal)</td>\n",
       "    </tr>\n",
       "    <tr>\n",
       "      <th>14</th>\n",
       "      <td>StreamingMovies</td>\n",
       "      <td>Categorical (nominal)</td>\n",
       "    </tr>\n",
       "    <tr>\n",
       "      <th>15</th>\n",
       "      <td>Contract</td>\n",
       "      <td>Categorical (ordinal)</td>\n",
       "    </tr>\n",
       "    <tr>\n",
       "      <th>16</th>\n",
       "      <td>PaperlessBilling</td>\n",
       "      <td>Categorical (binary)</td>\n",
       "    </tr>\n",
       "    <tr>\n",
       "      <th>17</th>\n",
       "      <td>PaymentMethod</td>\n",
       "      <td>Categorical (nominal)</td>\n",
       "    </tr>\n",
       "    <tr>\n",
       "      <th>18</th>\n",
       "      <td>MonthlyCharges</td>\n",
       "      <td>Numerical (continuous)</td>\n",
       "    </tr>\n",
       "    <tr>\n",
       "      <th>19</th>\n",
       "      <td>TotalCharges</td>\n",
       "      <td>Numerical (continuous)</td>\n",
       "    </tr>\n",
       "    <tr>\n",
       "      <th>20</th>\n",
       "      <td>Churn</td>\n",
       "      <td>Categorical (binary)</td>\n",
       "    </tr>\n",
       "  </tbody>\n",
       "</table>\n",
       "</div>"
      ],
      "text/plain": [
       "           Attribute                  Semantic Type\n",
       "0         customerID           Textual (identifier)\n",
       "1             gender          Categorical (nominal)\n",
       "2      SeniorCitizen           Categorical (binary)\n",
       "3            Partner           Categorical (binary)\n",
       "4         Dependents           Categorical (binary)\n",
       "5             tenure  Numerical (discrete, ordinal)\n",
       "6       PhoneService           Categorical (binary)\n",
       "7      MultipleLines          Categorical (nominal)\n",
       "8    InternetService          Categorical (nominal)\n",
       "9     OnlineSecurity          Categorical (nominal)\n",
       "10      OnlineBackup          Categorical (nominal)\n",
       "11  DeviceProtection          Categorical (nominal)\n",
       "12       TechSupport          Categorical (nominal)\n",
       "13       StreamingTV          Categorical (nominal)\n",
       "14   StreamingMovies          Categorical (nominal)\n",
       "15          Contract          Categorical (ordinal)\n",
       "16  PaperlessBilling           Categorical (binary)\n",
       "17     PaymentMethod          Categorical (nominal)\n",
       "18    MonthlyCharges         Numerical (continuous)\n",
       "19      TotalCharges         Numerical (continuous)\n",
       "20             Churn           Categorical (binary)"
      ]
     },
     "metadata": {},
     "output_type": "display_data"
    }
   ],
   "source": [
    "# Step 2: Convert dictionary into a DataFrame\n",
    "semantic_df = pd.DataFrame(\n",
    "    list(semantic_types.items()),\n",
    "    columns=[\"Attribute\", \"Semantic Type\"]\n",
    ")\n",
    "\n",
    "# Step 3: Display nicely\n",
    "print(\"Attributes and their semantic types:\\n\")\n",
    "display(semantic_df)"
   ]
  },
  {
   "cell_type": "markdown",
   "metadata": {},
   "source": [
    "#### Qual cliente paga o maior valor de assinatura mensal e que não faz streaming de filmes?\n",
    "\n",
    "- Apresente o valor pago mensalmente e os demais atributos desse cliente"
   ]
  },
  {
   "cell_type": "code",
   "execution_count": 14,
   "metadata": {},
   "outputs": [],
   "source": [
    "# Step 1: Filter customers with no streaming movies\n",
    "no_movies = df_clean[df_clean[\"StreamingMovies\"] == \"No\"]\n",
    "\n",
    "#  Step 2: Get the row with the highest monthly charge among them\n",
    "highest_no_movies = no_movies.loc[no_movies[\"MonthlyCharges\"].idxmax()]"
   ]
  },
  {
   "cell_type": "code",
   "execution_count": 15,
   "metadata": {},
   "outputs": [
    {
     "name": "stdout",
     "output_type": "stream",
     "text": [
      "Customer paying the highest monthly charge without StreamingMovies:\n",
      "MonthlyCharges: 106.75\n"
     ]
    },
    {
     "data": {
      "text/html": [
       "<div>\n",
       "<style scoped>\n",
       "    .dataframe tbody tr th:only-of-type {\n",
       "        vertical-align: middle;\n",
       "    }\n",
       "\n",
       "    .dataframe tbody tr th {\n",
       "        vertical-align: top;\n",
       "    }\n",
       "\n",
       "    .dataframe thead th {\n",
       "        text-align: right;\n",
       "    }\n",
       "</style>\n",
       "<table border=\"1\" class=\"dataframe\">\n",
       "  <thead>\n",
       "    <tr style=\"text-align: right;\">\n",
       "      <th></th>\n",
       "      <th>customerID</th>\n",
       "      <th>gender</th>\n",
       "      <th>SeniorCitizen</th>\n",
       "      <th>Partner</th>\n",
       "      <th>Dependents</th>\n",
       "      <th>tenure</th>\n",
       "      <th>PhoneService</th>\n",
       "      <th>MultipleLines</th>\n",
       "      <th>InternetService</th>\n",
       "      <th>OnlineSecurity</th>\n",
       "      <th>...</th>\n",
       "      <th>DeviceProtection</th>\n",
       "      <th>TechSupport</th>\n",
       "      <th>StreamingTV</th>\n",
       "      <th>StreamingMovies</th>\n",
       "      <th>Contract</th>\n",
       "      <th>PaperlessBilling</th>\n",
       "      <th>PaymentMethod</th>\n",
       "      <th>MonthlyCharges</th>\n",
       "      <th>TotalCharges</th>\n",
       "      <th>Churn</th>\n",
       "    </tr>\n",
       "  </thead>\n",
       "  <tbody>\n",
       "    <tr>\n",
       "      <th>5544</th>\n",
       "      <td>9572-MTILT</td>\n",
       "      <td>Male</td>\n",
       "      <td>0</td>\n",
       "      <td>Yes</td>\n",
       "      <td>No</td>\n",
       "      <td>59</td>\n",
       "      <td>Yes</td>\n",
       "      <td>Yes</td>\n",
       "      <td>Fiber optic</td>\n",
       "      <td>Yes</td>\n",
       "      <td>...</td>\n",
       "      <td>Yes</td>\n",
       "      <td>Yes</td>\n",
       "      <td>Yes</td>\n",
       "      <td>No</td>\n",
       "      <td>Month-to-month</td>\n",
       "      <td>Yes</td>\n",
       "      <td>Electronic check</td>\n",
       "      <td>106.75</td>\n",
       "      <td>6252.9</td>\n",
       "      <td>Yes</td>\n",
       "    </tr>\n",
       "  </tbody>\n",
       "</table>\n",
       "<p>1 rows × 21 columns</p>\n",
       "</div>"
      ],
      "text/plain": [
       "      customerID gender SeniorCitizen Partner Dependents tenure PhoneService  \\\n",
       "5544  9572-MTILT   Male             0     Yes         No     59          Yes   \n",
       "\n",
       "     MultipleLines InternetService OnlineSecurity  ... DeviceProtection  \\\n",
       "5544           Yes     Fiber optic            Yes  ...              Yes   \n",
       "\n",
       "     TechSupport StreamingTV StreamingMovies        Contract PaperlessBilling  \\\n",
       "5544         Yes         Yes              No  Month-to-month              Yes   \n",
       "\n",
       "         PaymentMethod MonthlyCharges TotalCharges Churn  \n",
       "5544  Electronic check         106.75       6252.9   Yes  \n",
       "\n",
       "[1 rows x 21 columns]"
      ]
     },
     "metadata": {},
     "output_type": "display_data"
    }
   ],
   "source": [
    "# Step 3: Display result\n",
    "print(\"Customer paying the highest monthly charge without StreamingMovies:\")\n",
    "print(\"MonthlyCharges:\", highest_no_movies[\"MonthlyCharges\"])\n",
    "display(highest_no_movies.to_frame().T)"
   ]
  },
  {
   "cell_type": "markdown",
   "metadata": {},
   "source": [
    "#### Histograma do tempo de permanência\n",
    "\n",
    "O histograma é um gráfico que mostra as frequências de uma determinada informação. No nosso caso, vamos construir histogramas que mostram o tempo de permanência no serviço (tenure). Vamos agrupar os valores em bins, cujo número deve ser definido pela Regra de Sturges. \n",
    "\n",
    "- Plote dois histogramas, um para os clientes que evadiram do serviço e outro para os que continuaram sua assinatura\n",
    "- Rotule os eixos e utilize boas práticas de visualização da informação\n",
    "- Faça a seguinte análise: as distribuições são diferentes?\n",
    "\n",
    "Documentação completa disponível em: https://matplotlib.org/stable/api/_as_gen/matplotlib.pyplot.hist.html\n"
   ]
  },
  {
   "cell_type": "code",
   "execution_count": 22,
   "metadata": {},
   "outputs": [
    {
     "data": {
      "image/png": "[encoded data removed]",
      "text/plain": [
       "<Figure size 1000x500 with 1 Axes>"
      ]
     },
     "metadata": {},
     "output_type": "display_data"
    },
    {
     "name": "stdout",
     "output_type": "stream",
     "text": [
      "👉 Analysis: The distributions are different.\n",
      "- Churned customers are concentrated in the first months (low tenure).\n",
      "- Retained customers are spread across all tenures, with peaks at long-term customers (60–72 months).\n"
     ]
    }
   ],
   "source": [
    "# Number of bins using Sturges' rule\n",
    "n = len(df_clean)\n",
    "bins = int(1 + np.log2(n))\n",
    "\n",
    "# Split churned vs retained\n",
    "tenure_churned = df_clean[df_clean[\"Churn\"] == \"Yes\"][\"tenure\"]\n",
    "tenure_retained = df_clean[df_clean[\"Churn\"] == \"No\"][\"tenure\"]\n",
    "\n",
    "# Plot\n",
    "plt.figure(figsize=(10,5))\n",
    "plt.hist(tenure_churned, bins=bins, alpha=0.6, color=\"red\", label=\"Churned\")\n",
    "plt.hist(tenure_retained, bins=bins, alpha=0.6, color=\"green\", label=\"Retained\")\n",
    "\n",
    "plt.title(\"Histogram of Tenure by Churn\")\n",
    "plt.xlabel(\"Tenure (months)\")\n",
    "plt.ylabel(\"Number of Customers\")\n",
    "plt.grid(axis=\"y\", linestyle=\"--\", alpha=0.7)\n",
    "plt.legend()\n",
    "plt.show()\n",
    "\n",
    "# Analysis\n",
    "print(\"👉 Analysis: The distributions are different.\")\n",
    "print(\"- Churned customers are concentrated in the first months (low tenure).\")\n",
    "print(\"- Retained customers are spread across all tenures, with peaks at long-term customers (60–72 months).\")"
   ]
  },
  {
   "cell_type": "markdown",
   "metadata": {},
   "source": [
    "#### Boxplot das Cobranças Mensais\n",
    "\n",
    "Como é a distribuição das cobranças mensais? O gráfico boxplot pode nos ajudar nesta questão.\n",
    "\n",
    "O boxplot ilustra informações importantes:\n",
    "- Mediana\n",
    "- Limite inferior (menor valor)\n",
    "- Limite superior (maior valor)\n",
    "- Q1 (primeiro quartil, 25% dos dados)\n",
    "- Q3 (terceiro quartil, 75% dos dados)\n",
    "- Outliers (se houver)\n",
    "\n",
    "A distribuição dos exemplos no dataset é simétrica no tocante ao atributo em questão? Elabore um parágrafo que justifique as conclusões obtidas a partir da análise do boxplot.\n",
    "\n",
    "Documentação completa disponível em: https://matplotlib.org/stable/api/_as_gen/matplotlib.pyplot.boxplot.html"
   ]
  },
  {
   "cell_type": "code",
   "execution_count": 37,
   "metadata": {},
   "outputs": [
    {
     "name": "stdout",
     "output_type": "stream",
     "text": [
      "👉 Analysis: the distribution is asymetric\n",
      "- The median is slightly closer to the upper quartile\n",
      "- The whiskers are unbalanced: upper whisker is bigger than the lower\n",
      "Conclusion:  the plot is negatively skewed, showing that there is more variability among lower charges\n"
     ]
    },
    {
     "data": {
      "image/png": "[encoded data removed]",
      "text/plain": [
       "<Figure size 1000x500 with 1 Axes>"
      ]
     },
     "metadata": {},
     "output_type": "display_data"
    }
   ],
   "source": [
    "# Entry vector: Monthly Charges\n",
    "monthly_charges = df_clean[\"MonthlyCharges\"]\n",
    "\n",
    "# Statistics to be displayed\n",
    "Q1 = np.percentile(monthly_charges, 25)\n",
    "Q3 = np.percentile(monthly_charges, 75)\n",
    "median = np.median(monthly_charges)\n",
    "\n",
    "# plot\n",
    "plt.figure(figsize=(10,5))\n",
    "plt.boxplot(monthly_charges, notch=True, patch_artist=True, \n",
    "            boxprops=dict(facecolor=\"lightblue\"),\n",
    "            medianprops=dict(color=\"blue\"))\n",
    "plt.axhline(median, color=\"blue\", linestyle=\"-\", label=f\"Median = {median:.2f}\")\n",
    "plt.axhline(Q1, color=\"yellow\", linestyle=\"-\", label=f\"Lower Quartile = {Q1:.2f}\")\n",
    "plt.axhline(Q3, color=\"red\", linestyle=\"-\", label=f\"Upper Quartile = {Q3:.2f}\")\n",
    "\n",
    "plt.title(\"Monthly Charges\")\n",
    "plt.grid(axis=\"y\", linestyle=\"--\", alpha=0.7)\n",
    "plt.legend()\n",
    "plt.plot()\n",
    "\n",
    "# Analysis\n",
    "print(\"👉 Analysis: the distribution is asymetric\")\n",
    "print(\"- The median is slightly closer to the upper quartile\")\n",
    "print(\"- The whiskers are unbalanced: upper whisker is bigger than the lower\")\n",
    "print(\"Conclusion:  the plot is negatively skewed, showing that there is more variability among lower charges\")"
   ]
  },
  {
   "cell_type": "markdown",
   "metadata": {},
   "source": [
    "#### Taxa de Churn\n",
    "\n",
    "- Qual a taxa de churn para cada perfil de tipo de pagamento mensal? Há diferenças?"
   ]
  },
  {
   "cell_type": "code",
   "execution_count": null,
   "metadata": {},
   "outputs": [],
   "source": []
  },
  {
   "cell_type": "markdown",
   "metadata": {},
   "source": [
    "#### Avaliação de Hipóteses\n",
    "\n",
    "Analise as seguintes hipóteses, elaborando gráficos e consulta aos dados para embasar suas justificativas:\n",
    "\n",
    "- Hipótese 1: \"Clientes que optaram por serviços como TechSupport (suporte técnico) têm uma probabilidade menor de churn.\"\n",
    "- Hipótese 2: \"A taxa de churn é significativamente maior para clientes com contratos de curto prazo em comparação com aqueles com contratos de longo prazo.\"\n",
    "- Hipótese 3: \"Clientes com múltiplos serviços, com dependentes e que fazem backup online possuem baixa probabilidade de trocar de prestadora\""
   ]
  },
  {
   "cell_type": "code",
   "execution_count": null,
   "metadata": {},
   "outputs": [],
   "source": []
  },
  {
   "cell_type": "code",
   "execution_count": null,
   "metadata": {},
   "outputs": [],
   "source": []
  },
  {
   "cell_type": "code",
   "execution_count": null,
   "metadata": {},
   "outputs": [],
   "source": []
  },
  {
   "cell_type": "markdown",
   "metadata": {},
   "source": [
    "#### Perfil do Cliente de Risco\n",
    "\n",
    "Crie uma série de 3 a 4 gráficos conectados que, juntos, respondam à seguinte pergunta:\n",
    "\n",
    "_**Qual é o perfil do cliente com alta probabilidade de churn e o que mais o influencia a sair?**_\n",
    "\n",
    "1. Visualização da Distribuição de Permanência (Tenure)  \n",
    "- Gráfico: Histograma ou gráfico de densidade comparando o tempo de permanência (tenure) de clientes que saíram (Churn = Yes) com o de clientes que ficaram (Churn = No).\n",
    "- Objetivo: Mostrar visualmente se o churn é mais comum entre clientes novos ou antigos.\n",
    "\n",
    "2. Análise da Relação entre Tipo de Contrato e Evasão\n",
    "- Gráfico: Gráfico de barras agrupadas ou empilhadas que mostre a taxa de churn para cada tipo de contrato (Monthly, One year, Two year).\n",
    "- Objetivo: Demonstrar o impacto do tipo de contrato na decisão do cliente de sair.\n",
    "\n",
    "3. Combinação de Variáveis: Preços e Serviços\n",
    "- Gráfico: Gráfico de dispersão (scatter plot) ou um gráfico de box plot que combine duas variáveis-chave, como MonthlyCharges (cobranças mensais) e o tipo de serviço de internet (InternetService), segmentado pela variável Churn.\n",
    "- Objetivo: Revelar se clientes que pagam mais por um tipo específico de serviço (ex: Fibra Óptica) têm uma taxa de churn diferente. Isso pode sugerir, por exemplo, que a insatisfação está ligada à qualidade de um serviço mais caro.\n",
    "\n",
    "\n",
    "Escreva um breve parágrafo resumindo as descobertas. A resposta deve conectar as visualizações, respondendo à pergunta inicial sobre o perfil do cliente em risco de forma coesa e baseada nas evidências visuais."
   ]
  },
  {
   "cell_type": "code",
   "execution_count": null,
   "metadata": {},
   "outputs": [],
   "source": []
  },
  {
   "cell_type": "markdown",
   "metadata": {},
   "source": [
    "#### Gênero do Cliente\n",
    "\n",
    "Conforme a documentação da base de dados, há dois valores possíveis para o gênero do cliente, são eles:  \n",
    "    - M: Masculino  \n",
    "    - F: Feminino  \n",
    "    \n",
    "Tal como dispostos, segundo strings, essas informações não ajudam modelos que lidam apenas com dados numéricos. É necessário efetuar uma codificação para representar tais valores. Assim, codifique a coluna gender conforme a abordagem One-Hot Encoding e elimine a coluna original do dataset.\n",
    "\n",
    "Referências:\n",
    "- https://towardsdatascience.com/what-is-one-hot-encoding-and-how-to-use-pandas-get-dummies-function-922eb9bd4970\n",
    "- https://scikit-learn.org/stable/modules/generated/sklearn.preprocessing.OneHotEncoder.html"
   ]
  },
  {
   "cell_type": "code",
   "execution_count": null,
   "metadata": {},
   "outputs": [],
   "source": []
  },
  {
   "cell_type": "markdown",
   "metadata": {},
   "source": [
    "#### Codificação dos Atributos\n",
    "\n",
    "- Se o atributo tiver duas categorias, repita o processo de codificação conforme proposto anteriormente. \n",
    "- Senão se o atributo tiver entre três e até cinco categorias, utilize Label Encoding.\n",
    "- Em caso contrário, elimine a coluna em questão.\n",
    "\n",
    "Referências:\n",
    "- https://scikit-learn.org/stable/modules/generated/sklearn.preprocessing.LabelEncoder.html\n"
   ]
  },
  {
   "cell_type": "code",
   "execution_count": null,
   "metadata": {},
   "outputs": [],
   "source": []
  },
  {
   "cell_type": "markdown",
   "metadata": {},
   "source": [
    "#### O dataset é balanceado?\n",
    "\n",
    "- Considera-se que o dataset é balanceado se não houver mais de 10% de diferença no quantitativo das classes nele presentes. Faça a avaliação nesses termos. Elabore gráficos que justificam sua resposta.\n",
    "- A partir da resposta considerada, apresente quatro métricas de desempenho a serem utilizadas na avaliação comparativa de modelos para esse problema"
   ]
  },
  {
   "cell_type": "code",
   "execution_count": null,
   "metadata": {},
   "outputs": [],
   "source": []
  },
  {
   "cell_type": "markdown",
   "metadata": {},
   "source": [
    "## Parte 2 - Tarefa de Aprendizado de Máquina\n",
    "\n",
    "Abordaremos o problema da previsão de churn como uma tarefa de classificação binária."
   ]
  },
  {
   "cell_type": "markdown",
   "metadata": {},
   "source": [
    "#### Preparação dos dados para Validação Cruzada Holdout\n",
    "\n",
    "- Vamos separar o atributo alvo (Age) dos atributores preditores. \n",
    "  - Atributos preditores devem ser armazenados em uma variável denominada X  \n",
    "  - Atributo alvo deve ser armazenado em uma variável denominada y\n",
    "- Qual o tipo de entrada do modelo?\n",
    "- Vamos efetuar uma partição do tipo holdout estratificada 70/30\n",
    "\n",
    "Documentação completa disponível em: https://scikit-learn.org/stable/modules/generated/sklearn.model_selection.train_test_split.html"
   ]
  },
  {
   "cell_type": "code",
   "execution_count": null,
   "metadata": {},
   "outputs": [],
   "source": []
  },
  {
   "cell_type": "markdown",
   "metadata": {},
   "source": [
    "#### Treinar um modelo de regressão logística para o problema\n",
    "\n",
    "A Regressão Logística é uma técnica de Aprendizado de Máquina que tem como objetivo produzir, a partir de um conjunto de observações, um modelo que permita a predição de valores tomados por uma variável categórica, frequentemente binária, a partir de uma série de variáveis explicativas.\n",
    "\n",
    "1. Importe o modelo da biblioteca sklearn\n",
    "2. Instancie o modelo com parâmetros padrão (default)\n",
    "3. Execute o algoritmo de treinamento com os dados de treino\n",
    "\n",
    "Documentação completa disponível em: https://scikit-learn.org/stable/modules/generated/sklearn.linear_model.LogisticRegression.html"
   ]
  },
  {
   "cell_type": "code",
   "execution_count": null,
   "metadata": {},
   "outputs": [],
   "source": []
  },
  {
   "cell_type": "markdown",
   "metadata": {},
   "source": [
    "#### Obtendo previsões do modelo\n",
    "\n",
    "1. Selecione um exemplo arbitrário da partição de teste\n",
    "2. Forneça os atributos preditores e obtenha a previsão da churn\n",
    "3. O modelo previu a saída corretamente?"
   ]
  },
  {
   "cell_type": "code",
   "execution_count": null,
   "metadata": {},
   "outputs": [],
   "source": []
  },
  {
   "cell_type": "markdown",
   "metadata": {},
   "source": [
    "#### Avalie o modelo perante o conjunto de testes\n",
    "\n",
    "1. Obtenha as métricas elencadas para o conjunto de testes\n",
    "  * Efetue a importação de tais métricas a partir do pacote sklearn.metrics\n",
    "2. Elabore uma visualização da matriz de confusão normalizada para as previsões do conjunto de testes\n",
    "3. O modelo é bom para o problema? Justifique sua afirmação."
   ]
  },
  {
   "cell_type": "code",
   "execution_count": null,
   "metadata": {},
   "outputs": [],
   "source": []
  },
  {
   "cell_type": "markdown",
   "metadata": {},
   "source": [
    "#### Treinar um modelo de K-Vizinhos Mais Próximos\n",
    "\n",
    "É um algoritmo de Aprendizado de Máquina que baseia-se na média dos valores dos k vizinhos mais próximos a uma dada entrada para produzir uma estimativa para o atributo-alvo. É considerado \"preguiçoso\", mas muito mostra-se vantajoso por possuir um baixo custo computacional.\n",
    "\n",
    "1. Efetue o treinamento do K-Vizinhos mais Próximos, considerando k = 5\n",
    "2. Efetue o teste no modelo e obtenha as métricas de desempenho previamente indicadas.  "
   ]
  },
  {
   "cell_type": "code",
   "execution_count": null,
   "metadata": {},
   "outputs": [],
   "source": []
  },
  {
   "cell_type": "markdown",
   "metadata": {},
   "source": [
    "#### Treinar um modelo de Árvore de Decisão\n",
    "\n",
    "É um modelo de aprendizado de máquina supervisionado, utilizado para problemas de classificação e regressão. Sua estrutura se assemelha a um fluxograma, em que cada nó interno representa um teste em uma atributo dado, cada ramo corresponde a um resultado desse teste, e cada nó folha a uma decisão final ou previsão. Destaca-se por sua interpretabilidade\n",
    "\n",
    "1. Efetue o treinamento do Árvore de Decisão, utilizando o critério de entropia.\n",
    "2. Efetue o teste no modelo e obtenha as métricas de desempenho previamente indicadas.  \n",
    "3. Plote a árvore de decisão construída."
   ]
  },
  {
   "cell_type": "code",
   "execution_count": null,
   "metadata": {},
   "outputs": [],
   "source": []
  },
  {
   "cell_type": "markdown",
   "metadata": {},
   "source": [
    "#### Síntese dos Resultados\n",
    "\n",
    "- Agrupe as matrizes de confusão obtidas lado a lado\n",
    "- Crie uma tabela com todos os modelos e métricas (Pretty Table)"
   ]
  },
  {
   "cell_type": "code",
   "execution_count": null,
   "metadata": {},
   "outputs": [],
   "source": []
  },
  {
   "cell_type": "code",
   "execution_count": null,
   "metadata": {},
   "outputs": [],
   "source": []
  },
  {
   "cell_type": "markdown",
   "metadata": {},
   "source": [
    "#### Argumente\n",
    "\n",
    "- Qual o melhor modelo para o problema em questão?\n",
    "- Qual o grau de dificuldade da tarefa de aprendizado proposta? Justifique a partir dos elementos e resultados obtidos nas células anteriores."
   ]
  },
  {
   "cell_type": "code",
   "execution_count": null,
   "metadata": {},
   "outputs": [],
   "source": []
  }
 ],
 "metadata": {
  "kernelspec": {
   "display_name": "venv (3.12.10)",
   "language": "python",
   "name": "python3"
  },
  "language_info": {
   "codemirror_mode": {
    "name": "ipython",
    "version": 3
   },
   "file_extension": ".py",
   "mimetype": "text/x-python",
   "name": "python",
   "nbconvert_exporter": "python",
   "pygments_lexer": "ipython3",
   "version": "3.12.10"
  }
 },
 "nbformat": 4,
 "nbformat_minor": 4
}
